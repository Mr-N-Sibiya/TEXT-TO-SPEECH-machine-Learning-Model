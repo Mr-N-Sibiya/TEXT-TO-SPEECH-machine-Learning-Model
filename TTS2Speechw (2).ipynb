{
  "cells": [
    {
      "cell_type": "code",
      "execution_count": 48,
      "metadata": {
        "colab": {
          "base_uri": "https://localhost:8080/"
        },
        "id": "hDHlwik7DsHA",
        "outputId": "069f8759-d2bf-451b-bc86-e8b040268400"
      },
      "outputs": [
        {
          "output_type": "stream",
          "name": "stdout",
          "text": [
            "Requirement already satisfied: replicate in /usr/local/lib/python3.10/dist-packages (0.24.0)\n",
            "Requirement already satisfied: httpx<1,>=0.21.0 in /usr/local/lib/python3.10/dist-packages (from replicate) (0.27.0)\n",
            "Requirement already satisfied: packaging in /usr/local/lib/python3.10/dist-packages (from replicate) (23.2)\n",
            "Requirement already satisfied: pydantic>1 in /usr/local/lib/python3.10/dist-packages (from replicate) (2.6.3)\n",
            "Requirement already satisfied: typing-extensions>=4.5.0 in /usr/local/lib/python3.10/dist-packages (from replicate) (4.10.0)\n",
            "Requirement already satisfied: anyio in /usr/local/lib/python3.10/dist-packages (from httpx<1,>=0.21.0->replicate) (3.7.1)\n",
            "Requirement already satisfied: certifi in /usr/local/lib/python3.10/dist-packages (from httpx<1,>=0.21.0->replicate) (2024.2.2)\n",
            "Requirement already satisfied: httpcore==1.* in /usr/local/lib/python3.10/dist-packages (from httpx<1,>=0.21.0->replicate) (1.0.4)\n",
            "Requirement already satisfied: idna in /usr/local/lib/python3.10/dist-packages (from httpx<1,>=0.21.0->replicate) (3.6)\n",
            "Requirement already satisfied: sniffio in /usr/local/lib/python3.10/dist-packages (from httpx<1,>=0.21.0->replicate) (1.3.1)\n",
            "Requirement already satisfied: h11<0.15,>=0.13 in /usr/local/lib/python3.10/dist-packages (from httpcore==1.*->httpx<1,>=0.21.0->replicate) (0.14.0)\n",
            "Requirement already satisfied: annotated-types>=0.4.0 in /usr/local/lib/python3.10/dist-packages (from pydantic>1->replicate) (0.6.0)\n",
            "Requirement already satisfied: pydantic-core==2.16.3 in /usr/local/lib/python3.10/dist-packages (from pydantic>1->replicate) (2.16.3)\n",
            "Requirement already satisfied: exceptiongroup in /usr/local/lib/python3.10/dist-packages (from anyio->httpx<1,>=0.21.0->replicate) (1.2.0)\n"
          ]
        }
      ],
      "source": [
        "pip install replicate"
      ]
    },
    {
      "cell_type": "code",
      "execution_count": 48,
      "metadata": {
        "id": "7f84PUQewtiY"
      },
      "outputs": [],
      "source": []
    },
    {
      "cell_type": "code",
      "execution_count": 49,
      "metadata": {
        "colab": {
          "base_uri": "https://localhost:8080/"
        },
        "id": "07ixmvcUM0e2",
        "outputId": "4fe9a04c-0b09-4d76-ed3f-c7bc9cb46f45"
      },
      "outputs": [
        {
          "output_type": "stream",
          "name": "stdout",
          "text": [
            "Requirement already satisfied: PyPDF2 in /usr/local/lib/python3.10/dist-packages (3.0.1)\n"
          ]
        }
      ],
      "source": [
        "pip install PyPDF2"
      ]
    },
    {
      "cell_type": "code",
      "execution_count": 50,
      "metadata": {
        "id": "ntUeSIIgER1s"
      },
      "outputs": [],
      "source": [
        "from replicate.client import Client\n",
        "import replicate"
      ]
    },
    {
      "cell_type": "markdown",
      "metadata": {
        "id": "fFQ24afnEaZh"
      },
      "source": [
        "Replicate API\n"
      ]
    },
    {
      "cell_type": "code",
      "execution_count": 51,
      "metadata": {
        "id": "SLiJP2-2GfcP"
      },
      "outputs": [],
      "source": [
        "replicate = replicate.Client(api_token='r8_aOIl4VQL6ApOSme2Jec3T4WKXW8fVWC2yE9ZP')\n"
      ]
    },
    {
      "cell_type": "code",
      "execution_count": 58,
      "metadata": {
        "colab": {
          "base_uri": "https://localhost:8080/",
          "height": 73
        },
        "id": "M57-O0UB8I4I",
        "outputId": "f2d1186e-040f-4570-acaa-1c48ef57254f"
      },
      "outputs": [
        {
          "output_type": "display_data",
          "data": {
            "text/plain": [
              "<IPython.core.display.HTML object>"
            ],
            "text/html": [
              "\n",
              "     <input type=\"file\" id=\"files-78676161-670c-4e7e-98f2-32e79bb2860f\" name=\"files[]\" multiple disabled\n",
              "        style=\"border:none\" />\n",
              "     <output id=\"result-78676161-670c-4e7e-98f2-32e79bb2860f\">\n",
              "      Upload widget is only available when the cell has been executed in the\n",
              "      current browser session. Please rerun this cell to enable.\n",
              "      </output>\n",
              "      <script>// Copyright 2017 Google LLC\n",
              "//\n",
              "// Licensed under the Apache License, Version 2.0 (the \"License\");\n",
              "// you may not use this file except in compliance with the License.\n",
              "// You may obtain a copy of the License at\n",
              "//\n",
              "//      http://www.apache.org/licenses/LICENSE-2.0\n",
              "//\n",
              "// Unless required by applicable law or agreed to in writing, software\n",
              "// distributed under the License is distributed on an \"AS IS\" BASIS,\n",
              "// WITHOUT WARRANTIES OR CONDITIONS OF ANY KIND, either express or implied.\n",
              "// See the License for the specific language governing permissions and\n",
              "// limitations under the License.\n",
              "\n",
              "/**\n",
              " * @fileoverview Helpers for google.colab Python module.\n",
              " */\n",
              "(function(scope) {\n",
              "function span(text, styleAttributes = {}) {\n",
              "  const element = document.createElement('span');\n",
              "  element.textContent = text;\n",
              "  for (const key of Object.keys(styleAttributes)) {\n",
              "    element.style[key] = styleAttributes[key];\n",
              "  }\n",
              "  return element;\n",
              "}\n",
              "\n",
              "// Max number of bytes which will be uploaded at a time.\n",
              "const MAX_PAYLOAD_SIZE = 100 * 1024;\n",
              "\n",
              "function _uploadFiles(inputId, outputId) {\n",
              "  const steps = uploadFilesStep(inputId, outputId);\n",
              "  const outputElement = document.getElementById(outputId);\n",
              "  // Cache steps on the outputElement to make it available for the next call\n",
              "  // to uploadFilesContinue from Python.\n",
              "  outputElement.steps = steps;\n",
              "\n",
              "  return _uploadFilesContinue(outputId);\n",
              "}\n",
              "\n",
              "// This is roughly an async generator (not supported in the browser yet),\n",
              "// where there are multiple asynchronous steps and the Python side is going\n",
              "// to poll for completion of each step.\n",
              "// This uses a Promise to block the python side on completion of each step,\n",
              "// then passes the result of the previous step as the input to the next step.\n",
              "function _uploadFilesContinue(outputId) {\n",
              "  const outputElement = document.getElementById(outputId);\n",
              "  const steps = outputElement.steps;\n",
              "\n",
              "  const next = steps.next(outputElement.lastPromiseValue);\n",
              "  return Promise.resolve(next.value.promise).then((value) => {\n",
              "    // Cache the last promise value to make it available to the next\n",
              "    // step of the generator.\n",
              "    outputElement.lastPromiseValue = value;\n",
              "    return next.value.response;\n",
              "  });\n",
              "}\n",
              "\n",
              "/**\n",
              " * Generator function which is called between each async step of the upload\n",
              " * process.\n",
              " * @param {string} inputId Element ID of the input file picker element.\n",
              " * @param {string} outputId Element ID of the output display.\n",
              " * @return {!Iterable<!Object>} Iterable of next steps.\n",
              " */\n",
              "function* uploadFilesStep(inputId, outputId) {\n",
              "  const inputElement = document.getElementById(inputId);\n",
              "  inputElement.disabled = false;\n",
              "\n",
              "  const outputElement = document.getElementById(outputId);\n",
              "  outputElement.innerHTML = '';\n",
              "\n",
              "  const pickedPromise = new Promise((resolve) => {\n",
              "    inputElement.addEventListener('change', (e) => {\n",
              "      resolve(e.target.files);\n",
              "    });\n",
              "  });\n",
              "\n",
              "  const cancel = document.createElement('button');\n",
              "  inputElement.parentElement.appendChild(cancel);\n",
              "  cancel.textContent = 'Cancel upload';\n",
              "  const cancelPromise = new Promise((resolve) => {\n",
              "    cancel.onclick = () => {\n",
              "      resolve(null);\n",
              "    };\n",
              "  });\n",
              "\n",
              "  // Wait for the user to pick the files.\n",
              "  const files = yield {\n",
              "    promise: Promise.race([pickedPromise, cancelPromise]),\n",
              "    response: {\n",
              "      action: 'starting',\n",
              "    }\n",
              "  };\n",
              "\n",
              "  cancel.remove();\n",
              "\n",
              "  // Disable the input element since further picks are not allowed.\n",
              "  inputElement.disabled = true;\n",
              "\n",
              "  if (!files) {\n",
              "    return {\n",
              "      response: {\n",
              "        action: 'complete',\n",
              "      }\n",
              "    };\n",
              "  }\n",
              "\n",
              "  for (const file of files) {\n",
              "    const li = document.createElement('li');\n",
              "    li.append(span(file.name, {fontWeight: 'bold'}));\n",
              "    li.append(span(\n",
              "        `(${file.type || 'n/a'}) - ${file.size} bytes, ` +\n",
              "        `last modified: ${\n",
              "            file.lastModifiedDate ? file.lastModifiedDate.toLocaleDateString() :\n",
              "                                    'n/a'} - `));\n",
              "    const percent = span('0% done');\n",
              "    li.appendChild(percent);\n",
              "\n",
              "    outputElement.appendChild(li);\n",
              "\n",
              "    const fileDataPromise = new Promise((resolve) => {\n",
              "      const reader = new FileReader();\n",
              "      reader.onload = (e) => {\n",
              "        resolve(e.target.result);\n",
              "      };\n",
              "      reader.readAsArrayBuffer(file);\n",
              "    });\n",
              "    // Wait for the data to be ready.\n",
              "    let fileData = yield {\n",
              "      promise: fileDataPromise,\n",
              "      response: {\n",
              "        action: 'continue',\n",
              "      }\n",
              "    };\n",
              "\n",
              "    // Use a chunked sending to avoid message size limits. See b/62115660.\n",
              "    let position = 0;\n",
              "    do {\n",
              "      const length = Math.min(fileData.byteLength - position, MAX_PAYLOAD_SIZE);\n",
              "      const chunk = new Uint8Array(fileData, position, length);\n",
              "      position += length;\n",
              "\n",
              "      const base64 = btoa(String.fromCharCode.apply(null, chunk));\n",
              "      yield {\n",
              "        response: {\n",
              "          action: 'append',\n",
              "          file: file.name,\n",
              "          data: base64,\n",
              "        },\n",
              "      };\n",
              "\n",
              "      let percentDone = fileData.byteLength === 0 ?\n",
              "          100 :\n",
              "          Math.round((position / fileData.byteLength) * 100);\n",
              "      percent.textContent = `${percentDone}% done`;\n",
              "\n",
              "    } while (position < fileData.byteLength);\n",
              "  }\n",
              "\n",
              "  // All done.\n",
              "  yield {\n",
              "    response: {\n",
              "      action: 'complete',\n",
              "    }\n",
              "  };\n",
              "}\n",
              "\n",
              "scope.google = scope.google || {};\n",
              "scope.google.colab = scope.google.colab || {};\n",
              "scope.google.colab._files = {\n",
              "  _uploadFiles,\n",
              "  _uploadFilesContinue,\n",
              "};\n",
              "})(self);\n",
              "</script> "
            ]
          },
          "metadata": {}
        },
        {
          "output_type": "stream",
          "name": "stdout",
          "text": [
            "Saving OnePassage (1).pdf to OnePassage (1) (1).pdf\n"
          ]
        }
      ],
      "source": [
        "from google.colab import files\n",
        "from PyPDF2 import PdfReader\n",
        "import io\n",
        "\n",
        "# Step 1: Choose a PDF file\n",
        "uploaded = files.upload()\n",
        "\n",
        "# Check if file is PDF, if not, prompt user to choose again\n",
        "file_name = list(uploaded.keys())[0]\n",
        "while not file_name.endswith('.pdf'):\n",
        "    print(\"Uploaded file is not a PDF. Please upload a PDF file.\")\n",
        "    uploaded = files.upload()\n",
        "    file_name = list(uploaded.keys())[0]\n",
        "\n",
        "# Save the PDF file to a folder inside Google Colab\n",
        "with open(file_name, 'wb') as f:\n",
        "    f.write(uploaded[file_name])\n",
        "\n",
        "# Step 2: Convert PDF file to text\n",
        "pdf_text = ''\n",
        "with open(file_name, 'rb') as f:\n",
        "    pdf_reader = PdfReader(f)\n",
        "    for page_num in range(len(pdf_reader.pages)):\n",
        "        page = pdf_reader.pages[page_num]\n",
        "        pdf_text += page.extract_text()\n",
        "\n",
        "# Step 3: Display proof that the file has text inside it\n",
        "#print(\"Extracted text from PDF:\")\n",
        "#print(pdf_text[:500])  # Displaying the first 500 characters as proof\n",
        "\n",
        "# Step 4: Save text to a file\n",
        "#text_file_name = file_name.replace('.pdf', '.txt')\n",
        "#with open(text_file_name, 'w') as f:\n",
        "#    contentH=f.write(pdf_text)\n",
        "\n",
        "#contentH+=contentH\n",
        "# Step 5: Displaying human-readable text (decoded properly)\n",
        "#with open(text_file_name, 'r') as f:\n",
        "#    print(f.read())\n",
        "#    human_readable_text = f.read()\n",
        "#    #print(human_readable_text)\n",
        "#    f_content = f.read()\n",
        "#    print(f_content)\n",
        "\n",
        "\n",
        "\n"
      ]
    },
    {
      "cell_type": "code",
      "execution_count": 53,
      "metadata": {
        "id": "zM9QSdfYVF5I"
      },
      "outputs": [],
      "source": [
        "#escaped_text = human_readable_text.replace('\"', r'\\\"')\n",
        "#f'\"{human_readable_text}\"'\n",
        "##api_input_text = f'\"{pdf_text}\"'"
      ]
    },
    {
      "cell_type": "code",
      "source": [
        "# Initialize variables\n",
        "current_page = 0\n",
        "\n",
        "# Split the text into words\n",
        "words = pdf_text.split()\n",
        "audio_files = []  # Initialize an empty list to store output MP3 files\n",
        "\n",
        "# Process 20 words at a time\n",
        "word_count = 0\n",
        "start_index = 0\n",
        "chunks = []\n",
        "\n",
        "while start_index < len(words):\n",
        "    end_index = min(start_index + 20, len(words))\n",
        "    chunk = ' '.join(words[start_index:end_index])\n",
        "    chunks.append(chunk)\n",
        "    start_index = end_index\n",
        "\n",
        "    # If we have accumulated 4 chunks or reached the end of the text\n",
        "    if len(chunks) == 2 or start_index == len(words):\n",
        "        # Join the chunks into a single variable\n",
        "        api_input_text = '\\n'.join(chunks)\n",
        "\n",
        "        # Call the API with the concatenated chunks\n",
        "        output = replicate.run(\n",
        "            \"adirik/styletts2:989cb5ea6d2401314eb30685740cb9f6fd1c9001b8940659b406f952837ab5ac\",\n",
        "            input={\n",
        "                \"beta\": 0.7,\n",
        "                \"seed\": 0,\n",
        "                \"text\": api_input_text,\n",
        "                \"alpha\": 0.3,\n",
        "                \"diffusion_steps\": 10,\n",
        "                \"embedding_scale\": 1.5\n",
        "            }\n",
        "        )\n",
        "\n",
        "        # Assuming output is the MP3 file obtained from the API call\n",
        "        audio_files.append(output)  # Append the MP3 file to the list\n",
        "\n",
        "        # Reset chunks for the next cycle\n",
        "        chunks = []\n",
        "\n",
        "\n"
      ],
      "metadata": {
        "id": "WPgzD0Ii9xp6"
      },
      "execution_count": 59,
      "outputs": []
    },
    {
      "cell_type": "code",
      "source": [
        "print(audio_files)"
      ],
      "metadata": {
        "colab": {
          "base_uri": "https://localhost:8080/"
        },
        "id": "fEISy8CmL9Ux",
        "outputId": "70c43100-6332-4114-c17a-6b2a90f298c3"
      },
      "execution_count": 60,
      "outputs": [
        {
          "output_type": "stream",
          "name": "stdout",
          "text": [
            "['https://replicate.delivery/pbxt/97bZ1CAeaCSJfUiWUczR6g4sXStsnm9n8XzVbGRMK04aLSekA/out.mp3', 'https://replicate.delivery/pbxt/UJdvfrlqBOURSqAkXKw8HGlYxhVyBTmNidcuf2uQ9gScLSekA/out.mp3', 'https://replicate.delivery/pbxt/Bb6rgeY9NgwJcq9FziLQEGnsbScfuVbpELceLCqBCus9Wk8kA/out.mp3', 'https://replicate.delivery/pbxt/4BWf2pCRDK2CRqR5TjMNAjhkvY1Ah2PAbfKO5JfgSgEBXk8kA/out.mp3', 'https://replicate.delivery/pbxt/qhtLTAuZ5H45A98m3flJXToxFBIHmRsP5EmfvvFeQg7EXk8kA/out.mp3', 'https://replicate.delivery/pbxt/ifBzC7elOSiibERJYQf7rHN8xs4yRJEhPbZ3mXZcrvmHXk8kA/out.mp3', 'https://replicate.delivery/pbxt/XQBr4qVnylICExQc4CEUwZKpd1CHUHwtWrpTZY6ZwSv8iknE/out.mp3', 'https://replicate.delivery/pbxt/dNINFC0e6tUKBKKLATd4vL40abOBVeCgfwJZLYqCT7nqXk8kA/out.mp3']\n"
          ]
        }
      ]
    },
    {
      "cell_type": "code",
      "source": [
        "pip install requests"
      ],
      "metadata": {
        "colab": {
          "base_uri": "https://localhost:8080/"
        },
        "id": "4riMl-oUNxQQ",
        "outputId": "655994e0-4934-4b32-e0ad-ff7bb5e0f086"
      },
      "execution_count": 61,
      "outputs": [
        {
          "output_type": "stream",
          "name": "stdout",
          "text": [
            "Requirement already satisfied: requests in /usr/local/lib/python3.10/dist-packages (2.31.0)\n",
            "Requirement already satisfied: charset-normalizer<4,>=2 in /usr/local/lib/python3.10/dist-packages (from requests) (3.3.2)\n",
            "Requirement already satisfied: idna<4,>=2.5 in /usr/local/lib/python3.10/dist-packages (from requests) (3.6)\n",
            "Requirement already satisfied: urllib3<3,>=1.21.1 in /usr/local/lib/python3.10/dist-packages (from requests) (2.0.7)\n",
            "Requirement already satisfied: certifi>=2017.4.17 in /usr/local/lib/python3.10/dist-packages (from requests) (2024.2.2)\n"
          ]
        }
      ]
    },
    {
      "cell_type": "code",
      "source": [],
      "metadata": {
        "id": "MHhE5iIHc_4e"
      },
      "execution_count": 61,
      "outputs": []
    },
    {
      "cell_type": "code",
      "source": [
        "from moviepy.editor import concatenate_audioclips, AudioFileClip\n",
        "import requests\n",
        "\n",
        "# Step 1: Import requests\n",
        "\n",
        "\n",
        "\n",
        "for i, url in enumerate(audio_files):\n",
        "    response = requests.get(url)\n",
        "    with open(f'audio{i+1}.mp3', 'wb') as f:\n",
        "        f.write(response.content)\n",
        "\n",
        "# Step 3: Create AudioFileClip objects for each downloaded MP3 file\n",
        "audio_clips = []\n",
        "for i in range(len(audio_files)):\n",
        "    audio_clips.append(AudioFileClip(f'audio{i+1}.mp3'))\n",
        "\n",
        "# Step 4: Concatenate AudioFileClip objects\n",
        "concatenated_clip = concatenate_audioclips(audio_clips)\n",
        "\n",
        "# Step 5: Write the concatenated audio to a file named 'playerOutput.mp3'\n",
        "concatenated_clip.write_audiofile('playerOutput.mp3')\n",
        "\n"
      ],
      "metadata": {
        "id": "abPyEit2wsWN",
        "colab": {
          "base_uri": "https://localhost:8080/"
        },
        "outputId": "2a33cc37-edab-4bee-baf7-f4692ba116b9"
      },
      "execution_count": 62,
      "outputs": [
        {
          "output_type": "stream",
          "name": "stdout",
          "text": [
            "MoviePy - Writing audio in playerOutput.mp3\n"
          ]
        },
        {
          "output_type": "stream",
          "name": "stderr",
          "text": [
            "                                                                      "
          ]
        },
        {
          "output_type": "stream",
          "name": "stdout",
          "text": [
            "MoviePy - Done.\n"
          ]
        },
        {
          "output_type": "stream",
          "name": "stderr",
          "text": [
            "\r"
          ]
        }
      ]
    }
  ],
  "metadata": {
    "colab": {
      "provenance": []
    },
    "kernelspec": {
      "display_name": "Python 3",
      "name": "python3"
    },
    "language_info": {
      "name": "python"
    }
  },
  "nbformat": 4,
  "nbformat_minor": 0
}